{
 "cells": [
  {
   "cell_type": "markdown",
   "metadata": {
    "slideshow": {
     "slide_type": "slide"
    }
   },
   "source": [
    "### hadoop ecosystem\n",
    "\n",
    "1. hadoop\n",
    "\n",
    "2. hive"
   ]
  },
  {
   "cell_type": "markdown",
   "metadata": {
    "slideshow": {
     "slide_type": "slide"
    }
   },
   "source": [
    "### install hadoop\n",
    "\n",
    "\\$ brew install hadoop\n",
    "\n",
    "/usr/local/Cellar/hadoop/2.7.0"
   ]
  },
  {
   "cell_type": "markdown",
   "metadata": {
    "slideshow": {
     "slide_type": "subslide"
    }
   },
   "source": [
    "### config hadoop-env.sh\n",
    "\n",
    "\\$ pico libexec/etc/hadoop/hadoop-env.sh\n",
    "\n",
    "replace export HADOOP_OPTS=\"$HADOOP_OPTS -Djava.net.preferIPv4Stack=true\"\n",
    "\n",
    "with export HADOOP_OPTS=\"$HADOOP_OPTS -Djava.net.preferIPv4Stack=true -Djava.security.krb5.realm= -Djava.security.krb5.kdc=\""
   ]
  },
  {
   "cell_type": "markdown",
   "metadata": {
    "slideshow": {
     "slide_type": "subslide"
    }
   },
   "source": [
    "### config mapred-site.xml\n",
    "\n",
    "\\$ pico libexec/etc/hadoop/mapred-site.xml\n",
    "\n",
    "<configuration>\n",
    "    <property>\n",
    "        <name>mapred.job.tracker</name>\n",
    "        <value>localhost:9010</value>\n",
    "    </property>\n",
    "</configuration>"
   ]
  },
  {
   "cell_type": "markdown",
   "metadata": {
    "slideshow": {
     "slide_type": "subslide"
    }
   },
   "source": [
    "### config hdfs-site.xml\n",
    "\n",
    "\\$ pico libexec/etc/hadoop/hdfs-site.xml\n",
    "\n",
    "<configuration>\n",
    "    <property>\n",
    "        <name>dfs.replication</name>\n",
    "        <value>1</value>\n",
    "    </property>\n",
    "</configuration> "
   ]
  },
  {
   "cell_type": "markdown",
   "metadata": {
    "slideshow": {
     "slide_type": "subslide"
    }
   },
   "source": [
    "### config HADOOP_HOME and alias \n",
    "\n",
    "\\$ pico ~/.bash_profile\n",
    "\n",
    "export HADOOP_HOME=/usr/local/Cellar/hadoop/2.7.0\n",
    "\n",
    "alias hstart=\"/usr/local/Cellar/hadoop/2.7.0/sbin/start-dfs.sh;/usr/local/Cellar/hadoop/2.7.0/sbin/start-yarn.sh\"\n",
    "alias hstop=\"/usr/local/Cellar/hadoop/2.7.0/sbin/stop-yarn.sh;/usr/local/Cellar/hadoop/2.7.0/sbin/stop-dfs.sh\"\n",
    "\n",
    "\\$ source ~/.bash_profile"
   ]
  },
  {
   "cell_type": "markdown",
   "metadata": {
    "slideshow": {
     "slide_type": "subslide"
    }
   },
   "source": [
    "### config ssh\n",
    "\n",
    "\\$ ssh-keygen -t ras\n",
    "\n",
    "enable remote login\n",
    "\n",
    "    system preferences -> sharing -> remote login\n",
    "\n",
    "authorize ssh keys\n",
    "\n",
    "    \\$ cat ~/.ssh/id_rsa.pub >> ~/.ssh/authorized_keys\n",
    "    \n",
    "login via ssh\n",
    "\n",
    "    \\$ ssh localhost"
   ]
  },
  {
   "cell_type": "markdown",
   "metadata": {
    "slideshow": {
     "slide_type": "subslide"
    }
   },
   "source": [
    "### format start stop\n",
    "\n",
    "\\$ hdfs namenode -format\n",
    "\n",
    "\\$ hstart\n",
    "\n",
    "\\$ jps\n",
    "\n",
    "\\$ hadoop jar path/to/hadoop-examples.jar pi 10 100\n",
    "\n",
    "\\$ hdfs dfs -mkdir -p /user/hqlgree2\n",
    "\n",
    "\\$ hdfs dfs -put book.txt /user/hqlgree2/\n",
    "\n",
    "\\$ hstop"
   ]
  }
 ],
 "metadata": {
  "celltoolbar": "Slideshow",
  "kernelspec": {
   "display_name": "Python 2",
   "language": "python",
   "name": "python2"
  },
  "language_info": {
   "codemirror_mode": {
    "name": "ipython",
    "version": 2
   },
   "file_extension": ".py",
   "mimetype": "text/x-python",
   "name": "python",
   "nbconvert_exporter": "python",
   "pygments_lexer": "ipython2",
   "version": "2.7.9"
  }
 },
 "nbformat": 4,
 "nbformat_minor": 0
}
