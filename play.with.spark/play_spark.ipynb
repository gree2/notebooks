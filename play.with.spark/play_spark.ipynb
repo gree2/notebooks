{
 "cells": [
  {
   "cell_type": "code",
   "execution_count": 1,
   "metadata": {
    "collapsed": false
   },
   "outputs": [
    {
     "data": {
      "text/plain": [
       "[Row(weekday=u'1', c1=12254),\n",
       " Row(weekday=u'2', c1=13579),\n",
       " Row(weekday=u'3', c1=14430),\n",
       " Row(weekday=u'4', c1=15114),\n",
       " Row(weekday=u'5', c1=14743),\n",
       " Row(weekday=u'6', c1=18229),\n",
       " Row(weekday=u'7', c1=11651)]"
      ]
     },
     "execution_count": 1,
     "metadata": {},
     "output_type": "execute_result"
    }
   ],
   "source": [
    "from pyspark.sql import SQLContext, Row\n",
    "import datetime\n",
    "\n",
    "sqlContext = SQLContext(sc)\n",
    "lines = sc.textFile('hdfs://localhost:9000/user/hqlgree2/ml-100k/u.data')\n",
    "parts = lines.map(lambda l: l.split('\\t'))\n",
    "# userid, movieid, rating, unixtime\n",
    "udata = parts.map(lambda u: Row(userid=int(u[0]),\n",
    "                                movieid=int(u[1]),\n",
    "                                rating=int(u[2]),\n",
    "                                weekday=str(datetime.datetime.fromtimestamp(float(u[3])).isoweekday())))\n",
    "\n",
    "schema = sqlContext.inferSchema(udata)\n",
    "schema.registerTempTable('udata')\n",
    "\n",
    "results = sqlContext.sql('select weekday, count(*) from udata group by weekday')\n",
    "results.collect()"
   ]
  },
  {
   "cell_type": "code",
   "execution_count": 2,
   "metadata": {
    "collapsed": false
   },
   "outputs": [
    {
     "data": {
      "image/png": "[encoded data removed]",
      "text/plain": [
       "<matplotlib.figure.Figure at 0x10a014e10>"
      ]
     },
     "metadata": {},
     "output_type": "display_data"
    }
   ],
   "source": [
    "%matplotlib inline\n",
    "import matplotlib\n",
    "matplotlib.style.use('ggplot')\n",
    "df = results.toPandas()\n",
    "df.plot(kind='bar', x='weekday');"
   ]
  },
  {
   "cell_type": "code",
   "execution_count": 3,
   "metadata": {
    "collapsed": true
   },
   "outputs": [],
   "source": [
    "# results.saveAsParquetFile\n",
    "schema.saveAsParquetFile(\"udata.parquet\");"
   ]
  }
 ],
 "metadata": {
  "kernelspec": {
   "display_name": "Python 2",
   "language": "python",
   "name": "python2"
  },
  "language_info": {
   "codemirror_mode": {
    "name": "ipython",
    "version": 2
   },
   "file_extension": ".py",
   "mimetype": "text/x-python",
   "name": "python",
   "nbconvert_exporter": "python",
   "pygments_lexer": "ipython2",
   "version": "2.7.10"
  }
 },
 "nbformat": 4,
 "nbformat_minor": 0
}
