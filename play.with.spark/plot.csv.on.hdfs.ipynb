{
 "cells": [
  {
   "cell_type": "code",
   "execution_count": null,
   "metadata": {
    "collapsed": false
   },
   "outputs": [],
   "source": [
    "from pyspark.sql import SQLContext\n",
    "from pyspark.sql.types import StructField, IntegerType, StringType, StructType\n",
    "%matplotlib inline\n",
    "import matplotlib.pyplot as plt\n",
    "import matplotlib\n",
    "print matplotlib.matplotlib_fname()\n",
    "matplotlib.rcParams['font.sans-serif'] = ['Microsoft YaHei']\n",
    "matplotlib.rcParams['axes.unicode_minus'] = False"
   ]
  },
  {
   "cell_type": "code",
   "execution_count": null,
   "metadata": {
    "collapsed": false
   },
   "outputs": [],
   "source": [
    "csv_dt = sc.textFile(\"hdfs://localhost:9000/python/BM_AIC140.csv\", use_unicode=False)\n",
    "header = csv_dt.take(2)\n",
    "#for h in header: print h"
   ]
  },
  {
   "cell_type": "code",
   "execution_count": null,
   "metadata": {
    "collapsed": false
   },
   "outputs": [],
   "source": [
    "footer = csv_dt.filter(lambda x: x not in header)\n",
    "#for f in footer.collect(): print f"
   ]
  },
  {
   "cell_type": "code",
   "execution_count": null,
   "metadata": {
    "collapsed": false
   },
   "outputs": [],
   "source": [
    "parts = footer.map(lambda x: x.split(\"|\"))\n",
    "#for p in parts.collect(): print p"
   ]
  },
  {
   "cell_type": "code",
   "execution_count": null,
   "metadata": {
    "collapsed": false
   },
   "outputs": [],
   "source": [
    "table = parts.map(lambda x: (int(x[0]), x[1].decode('utf-8')))\n",
    "#for t in table.collect():\n",
    "#    c, n = t\n",
    "#    print c, n"
   ]
  },
  {
   "cell_type": "code",
   "execution_count": null,
   "metadata": {
    "collapsed": false
   },
   "outputs": [],
   "source": [
    "f_code = StructField(\"code\", IntegerType(), True)\n",
    "f_name = StructField(\"name\", StringType(), True)\n",
    "sqlCtx = SQLContext(sc)\n",
    "schema = StructType([f_code, f_name])\n",
    "df = sqlCtx.createDataFrame(table, schema)\n",
    "df.registerTempTable(\"table140\")"
   ]
  },
  {
   "cell_type": "code",
   "execution_count": null,
   "metadata": {
    "collapsed": false
   },
   "outputs": [],
   "source": [
    "results = df.select(df.code, df.name).orderBy(df.code)\n",
    "resultsPandas = results.toPandas()\n",
    "resultsPandas"
   ]
  },
  {
   "cell_type": "code",
   "execution_count": null,
   "metadata": {
    "collapsed": false
   },
   "outputs": [],
   "source": [
    "labels = df.select(df.name).map(lambda x: x.name).collect()\n",
    "for l in labels: print l"
   ]
  },
  {
   "cell_type": "code",
   "execution_count": null,
   "metadata": {
    "collapsed": false
   },
   "outputs": [],
   "source": [
    "#from __future__ import unicode_literals\n",
    "#matplotlib.rc('font', **{'sans-serif' : 'Arial', 'family' : 'sans-serif'})\n",
    "#matplotlib.rc('font',family='sans-serif')\n",
    "fig = resultsPandas.plot(kind=\"bar\", x=\"name\")\n",
    "#fig.set_xticklabels(labels)\n",
    "#fig.set_xticklabels(xlabels, rotation=45)\n",
    "\n",
    "#fig"
   ]
  },
  {
   "cell_type": "code",
   "execution_count": null,
   "metadata": {
    "collapsed": false
   },
   "outputs": [],
   "source": [
    "plt.clf()"
   ]
  },
  {
   "cell_type": "code",
   "execution_count": null,
   "metadata": {
    "collapsed": true
   },
   "outputs": [],
   "source": []
  }
 ],
 "metadata": {
  "kernelspec": {
   "display_name": "Python 2",
   "language": "python",
   "name": "python2"
  },
  "language_info": {
   "codemirror_mode": {
    "name": "ipython",
    "version": 2
   },
   "file_extension": ".py",
   "mimetype": "text/x-python",
   "name": "python",
   "nbconvert_exporter": "python",
   "pygments_lexer": "ipython2",
   "version": "2.7.11"
  }
 },
 "nbformat": 4,
 "nbformat_minor": 0
}
